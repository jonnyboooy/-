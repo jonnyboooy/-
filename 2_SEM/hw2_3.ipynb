{
  "nbformat": 4,
  "nbformat_minor": 0,
  "metadata": {
    "colab": {
      "provenance": []
    },
    "kernelspec": {
      "name": "python3",
      "display_name": "Python 3"
    },
    "language_info": {
      "name": "python"
    }
  },
  "cells": [
    {
      "cell_type": "markdown",
      "source": [
        "### **1. Напишите декоратор, реализующий проверку по заданному правилу входных аргументов функции ( @pre ) .При невыполнении условий прерывайте выполнение с выдачей заранее заданного сообщения. Декоратор должен принимать в качестве аргументов правило и сообщение.**"
      ],
      "metadata": {
        "id": "YISJOkRprhtF"
      }
    },
    {
      "cell_type": "code",
      "source": [
        "def pre(condition, message):\n",
        "    def wrapper(func):\n",
        "        def inner(*args):\n",
        "            for x in args:\n",
        "                if not condition(x):\n",
        "                    return message\n",
        "            return func(*args)\n",
        "        return inner\n",
        "    return wrapper\n",
        "\n",
        "\n",
        "new_pre = pre(lambda x: x > 0, 'Некорректные данные!')\n",
        "\n",
        "\n",
        "@new_pre\n",
        "def nums(*args):\n",
        "    return args\n",
        "\n",
        "\n",
        "print(nums(1, 2))\n",
        "print(nums(1, -2))"
      ],
      "metadata": {
        "colab": {
          "base_uri": "https://localhost:8080/"
        },
        "id": "YSDqDSh0vnPp",
        "outputId": "cda9333e-294d-40d9-fd89-d8c578377394"
      },
      "execution_count": 1,
      "outputs": [
        {
          "output_type": "stream",
          "name": "stdout",
          "text": [
            "(1, 2)\n",
            "Некорректные данные!\n"
          ]
        }
      ]
    },
    {
      "cell_type": "markdown",
      "source": [
        "### **2. Напишите декоратор, реализующий проверку по заданному правилу выходных аргументов функции ( @post ) . Все остальное - как в примере выше.**"
      ],
      "metadata": {
        "id": "Hg-WEVhpri8m"
      }
    },
    {
      "cell_type": "code",
      "source": [
        "import random\n",
        "\n",
        "\n",
        "def post(condition, message):\n",
        "    def wrapper(func):\n",
        "        def inner(*args):\n",
        "            res = func(*args)\n",
        "            for x in res:\n",
        "                if condition(x):\n",
        "                    return message, res\n",
        "            return res\n",
        "        return inner\n",
        "    return wrapper\n",
        "\n",
        "\n",
        "new_post = post(lambda x: x != 0 and x % 7 == 0, 'Некорректные данные!')\n",
        "\n",
        "\n",
        "@new_post\n",
        "def nums(n):\n",
        "    return tuple(i * random.randint(0, 1) for i in range(n))\n",
        "\n",
        "\n",
        "print(nums(10))\n",
        "print(nums(11))"
      ],
      "metadata": {
        "colab": {
          "base_uri": "https://localhost:8080/"
        },
        "id": "5Q7eh3kq9NUA",
        "outputId": "d914f313-d702-4413-cbbc-590cc7e1d65d"
      },
      "execution_count": 2,
      "outputs": [
        {
          "output_type": "stream",
          "name": "stdout",
          "text": [
            "(0, 0, 2, 3, 4, 0, 0, 0, 8, 9)\n",
            "('Некорректные данные!', (0, 0, 2, 3, 4, 5, 6, 7, 0, 0, 10))\n"
          ]
        }
      ]
    },
    {
      "cell_type": "markdown",
      "source": [
        "### **3. Напишите настраиваимый декоратор, обеспечивающий мемоизацию (проверьте его на функции Аккермана или на вычислении n-го числа Фибоначчи). Мемоизатор должен хранить не более n значений, (как в очереди -- если пришло n+1 -ое) -- вы забываете 1 -ое. После выполнения функции выдавайте на печать сколько раз функция посчиталась, и сколько раз вы взяли значение из памяти.**"
      ],
      "metadata": {
        "id": "zetzORu5rjId"
      }
    },
    {
      "cell_type": "code",
      "source": [
        "from_func_count = 0\n",
        "from_cache_count = 0\n",
        "\n",
        "\n",
        "def fibonacci_decorator(memoize_count):\n",
        "    cache = dict()\n",
        "\n",
        "    def wrapper(func):\n",
        "        def inner(n):\n",
        "            global from_func_count\n",
        "            global from_cache_count\n",
        "\n",
        "            if n not in cache.keys():\n",
        "                if len(tuple(cache.items())) >= memoize_count:\n",
        "                    cache.pop(tuple(cache.keys())[0])\n",
        "\n",
        "                cache[n] = func(n)\n",
        "                from_func_count += 1\n",
        "            else:\n",
        "                from_cache_count += 1\n",
        "\n",
        "            return cache[n]\n",
        "        return inner\n",
        "    return wrapper\n",
        "\n",
        "\n",
        "new_fib_dec = fibonacci_decorator(2)\n",
        "\n",
        "\n",
        "@new_fib_dec\n",
        "def fibonacci(n):\n",
        "    if n in (1, 2):\n",
        "        return 1\n",
        "\n",
        "    return fibonacci(n - 1) + fibonacci(n - 2)\n",
        "\n",
        "\n",
        "print(fibonacci(5))\n",
        "print(f'Функция посчиталась {from_func_count} раз(-а)\\n'\n",
        "      f'Значение взято из памяти {from_cache_count} раз(-а)')\n"
      ],
      "metadata": {
        "colab": {
          "base_uri": "https://localhost:8080/"
        },
        "id": "98CopvAQZrrJ",
        "outputId": "8a541674-4f58-4c80-e1ca-0505312b85ce"
      },
      "execution_count": 2,
      "outputs": [
        {
          "output_type": "stream",
          "name": "stdout",
          "text": [
            "5\n",
            "Функция посчиталась 5 раз(-а)\n",
            "Значение взято из памяти 2 раз(-а)\n"
          ]
        }
      ]
    },
    {
      "cell_type": "markdown",
      "source": [
        "### **4. Напишите декоратор определяющий среднее выполнение времени функции по результатам n запусков**"
      ],
      "metadata": {
        "id": "3sP0-aOJrjQt"
      }
    },
    {
      "cell_type": "code",
      "source": [
        "import time\n",
        "\n",
        "from_func_count = 0\n",
        "from_cache_count = 0\n",
        "avg_time = 0\n",
        "\n",
        "\n",
        "def time_decorator(repeat_number):\n",
        "    def wrapper(func):\n",
        "        def inner(n):\n",
        "            global avg_time\n",
        "\n",
        "            for i in range(repeat_number):\n",
        "                start = time.time()\n",
        "                func(n)\n",
        "                avg_time += time.time() - start\n",
        "            return avg_time / repeat_number\n",
        "        return inner\n",
        "    return wrapper\n",
        "\n",
        "\n",
        "def fib_decorator(memoize_count):\n",
        "    cache = dict()\n",
        "\n",
        "    def wrapper(func):\n",
        "        def inner(n):\n",
        "            global from_func_count\n",
        "            global from_cache_count\n",
        "\n",
        "            if len(tuple(cache.items())) == memoize_count:\n",
        "                cache.pop(tuple(cache.keys())[0])\n",
        "\n",
        "            if n not in tuple(cache.keys()):\n",
        "                cache[n] = func(n)\n",
        "                from_func_count += 1\n",
        "            else:\n",
        "                from_cache_count += 1\n",
        "            return cache[n]\n",
        "        return inner\n",
        "    return wrapper\n",
        "\n",
        "\n",
        "new_fib_dec = fib_decorator(2)\n",
        "new_time_dec = time_decorator(10)\n",
        "\n",
        "\n",
        "@new_fib_dec\n",
        "@new_time_dec\n",
        "def fib(n):\n",
        "    if n in (1, 2):\n",
        "        return 1\n",
        "\n",
        "    return fib(n - 1) + fib(n - 2)\n",
        "\n",
        "\n",
        "fib(100)\n",
        "print(f'Функция посчиталась {from_func_count} раз(-а)\\n'\n",
        "      f'Значение взято из памяти {from_cache_count} раз(-а)\\n'\n",
        "      f'Среднее время выполнения {avg_time} с')\n"
      ],
      "metadata": {
        "colab": {
          "base_uri": "https://localhost:8080/"
        },
        "id": "_ABxbAtsNckU",
        "outputId": "28aa3419-66a4-44e0-8267-daa59237f4b8"
      },
      "execution_count": 7,
      "outputs": [
        {
          "output_type": "stream",
          "name": "stdout",
          "text": [
            "Функция посчиталась 118 раз(-а)\n",
            "Значение взято из памяти 1843 раз(-а)\n",
            "Среднее время выполнения 0.46889543533325195 с\n"
          ]
        }
      ]
    }
  ]
}