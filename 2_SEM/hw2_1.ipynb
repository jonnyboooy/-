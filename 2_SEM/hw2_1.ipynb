{
  "nbformat": 4,
  "nbformat_minor": 0,
  "metadata": {
    "colab": {
      "provenance": []
    },
    "kernelspec": {
      "name": "python3",
      "display_name": "Python 3"
    },
    "language_info": {
      "name": "python"
    }
  },
  "cells": [
    {
      "cell_type": "markdown",
      "source": [
        "\n",
        "\n",
        "---\n",
        "\n",
        "# **3 задачки из раздела** \"[4.1. Функции. Области видимости. Передача параметров в функции](https://academy.yandex.ru/handbook/python/article/funkcii-oblasti-vidimosti-peredacha-parametrov-v-funkcii)\":\n",
        "\n",
        "---\n",
        "\n"
      ],
      "metadata": {
        "id": "pzEVojYhIzo0"
      }
    },
    {
      "cell_type": "markdown",
      "source": [
        "### C. Длина числа"
      ],
      "metadata": {
        "id": "IKq8Rdw_Jqpc"
      }
    },
    {
      "cell_type": "code",
      "source": [
        "def number_length(num: int):\n",
        "    if num:\n",
        "        return len(str(abs(num)))\n"
      ],
      "metadata": {
        "id": "8MwdgxW8JqI8"
      },
      "execution_count": null,
      "outputs": []
    },
    {
      "cell_type": "markdown",
      "source": [],
      "metadata": {
        "id": "AkuaVcYFLQ7n"
      }
    },
    {
      "cell_type": "markdown",
      "source": [
        "### D. Имя of the month"
      ],
      "metadata": {
        "id": "WEIgkB3_Kw8Q"
      }
    },
    {
      "cell_type": "code",
      "source": [
        "def month(num: int, lang: str):\n",
        "    rez = {\n",
        "        1: {\n",
        "            'en': 'January',\n",
        "            'ru': 'Январь'\n",
        "        },\n",
        "        2: {\n",
        "            'en': 'February',\n",
        "            'ru': 'Февраль'\n",
        "        },\n",
        "        3: {\n",
        "            'en': 'March',\n",
        "            'ru': 'Март'\n",
        "        },\n",
        "        4: {\n",
        "            'en': 'April',\n",
        "            'ru': 'Апрель'\n",
        "        },\n",
        "        5: {\n",
        "            'en': 'May',\n",
        "            'ru': 'Май'\n",
        "        },\n",
        "        6: {\n",
        "            'en': 'June',\n",
        "            'ru': 'Июнь'\n",
        "        },\n",
        "        7: {\n",
        "            'en': 'July',\n",
        "            'ru': 'Июль'\n",
        "        },\n",
        "        8: {\n",
        "            'en': 'August',\n",
        "            'ru': 'Август'\n",
        "        },\n",
        "        9: {\n",
        "            'en': 'September',\n",
        "            'ru': 'Сентябрь'\n",
        "        },\n",
        "        10: {\n",
        "            'en': 'October',\n",
        "            'ru': 'Октябрь'\n",
        "        },\n",
        "        11: {\n",
        "            'en': 'November',\n",
        "            'ru': 'Ноябрь'\n",
        "        },\n",
        "        12: {\n",
        "            'en': 'December',\n",
        "            'ru': 'Декабрь'\n",
        "        }\n",
        "    }\n",
        "\n",
        "    return rez[num][lang]"
      ],
      "metadata": {
        "id": "AkUj-6qsJZY_"
      },
      "execution_count": null,
      "outputs": []
    },
    {
      "cell_type": "markdown",
      "source": [
        "### E. Числовая строка"
      ],
      "metadata": {
        "id": "TcuginPyK_fG"
      }
    },
    {
      "cell_type": "code",
      "source": [
        "def split_numbers(numbers: str):\n",
        "    return tuple(int(el) for el in numbers.split())"
      ],
      "metadata": {
        "id": "OVsdwPXwLHU-"
      },
      "execution_count": null,
      "outputs": []
    },
    {
      "cell_type": "markdown",
      "source": [
        "\n",
        "\n",
        "---\n",
        "\n",
        "# **3 задачки из раздела** \"[Позиционные и именованные аргументы. Функции высших порядков. Лямбда-функции](https://academy.yandex.ru/handbook/python/article/pozicionnye-i-imenovannye-argumenty-funkcii-vysshih-poryadkov-lyambda-funkcii)\":\n",
        "\n",
        "---\n",
        "\n"
      ],
      "metadata": {
        "id": "hg8BbX7LLRtd"
      }
    },
    {
      "cell_type": "markdown",
      "source": [
        "### A. Генератор списков"
      ],
      "metadata": {
        "id": "VaszLuE1UNGI"
      }
    },
    {
      "cell_type": "code",
      "source": [
        "def make_list(length, value=0):\n",
        "    return [value for i in range(length)]"
      ],
      "metadata": {
        "id": "CrV0su4mUQKo"
      },
      "execution_count": 1,
      "outputs": []
    },
    {
      "cell_type": "markdown",
      "source": [
        "### B. Генератор матриц"
      ],
      "metadata": {
        "id": "QrhsGrEMUSgo"
      }
    },
    {
      "cell_type": "code",
      "source": [
        "def make_matrix(size, value=0):\n",
        "    if type(size) == int:\n",
        "        return [[value for i in range(size)] for j in range(size)]\n",
        "    else:\n",
        "        return [[value for i in range(size[0])] for j in range(size[1])]\n"
      ],
      "metadata": {
        "id": "JvukNLMMWe2G"
      },
      "execution_count": null,
      "outputs": []
    },
    {
      "cell_type": "markdown",
      "source": [
        "### E. Подготовка данных"
      ],
      "metadata": {
        "id": "Ev2aAAe4OYVi"
      }
    },
    {
      "cell_type": "code",
      "source": [
        "def to_string(*args, sep=' ', end='\\n'):\n",
        "    return sep.join(str(x) for x in args) + end"
      ],
      "metadata": {
        "id": "_YwbeColOcSe"
      },
      "execution_count": null,
      "outputs": []
    },
    {
      "cell_type": "markdown",
      "source": [
        "\n",
        "\n",
        "---\n",
        "\n",
        "# **Алгоритмы**:\n",
        "\n",
        "---\n",
        "\n"
      ],
      "metadata": {
        "id": "zzkteatKoR3p"
      }
    },
    {
      "cell_type": "markdown",
      "source": [
        "### [Односвязный список. Задача №1](https://new.contest.yandex.ru/50909/problem?id=215/2023_03_20/whpmVzFoJn)"
      ],
      "metadata": {
        "id": "D3oV5a4UnBA2"
      }
    },
    {
      "cell_type": "code",
      "source": [
        "my_list = list()\n",
        "\n",
        "for i in range(int(input())):\n",
        "    request = input().split()\n",
        "\n",
        "    if int(request[0]) == 1:\n",
        "        my_list.insert(0, int(request[2])) if int(request[1]) == 0 else my_list.insert(int(request[1]), int(request[2]))\n",
        "    elif int(request[0]) == 2:\n",
        "        print(my_list[int(request[1]) - 1])\n",
        "    else:\n",
        "        my_list.pop(int(request[1]) - 1)"
      ],
      "metadata": {
        "id": "aaJvOemco2f2"
      },
      "execution_count": null,
      "outputs": []
    },
    {
      "cell_type": "markdown",
      "source": [
        "### [Множество. Задача №1](https://new.contest.yandex.ru/48672/problem?id=215/2023_03_20/JBeZfdqvZn)"
      ],
      "metadata": {
        "id": "fhYtc8wen1dx"
      }
    },
    {
      "cell_type": "code",
      "source": [
        "my_set = set()\n",
        "\n",
        "for i in range(int(input())):\n",
        "    request = input().split()\n",
        "\n",
        "    if int(request[i][0]) == 1:\n",
        "        my_set.add(int(request[i][1]))\n",
        "    else:\n",
        "        print(1) if int(request[i][1]) in my_set else print(0)"
      ],
      "metadata": {
        "id": "vTu3ukybn1w6"
      },
      "execution_count": null,
      "outputs": []
    },
    {
      "cell_type": "markdown",
      "source": [
        "### [Словарь. Задача №1](https://new.contest.yandex.ru/48673/problem?id=215/2023_03_20/ckYXkoBQRB)"
      ],
      "metadata": {
        "id": "rv5S6iqEo3QO"
      }
    },
    {
      "cell_type": "code",
      "source": [
        "my_dict = dict()\n",
        "\n",
        "for i in range(int(input())):\n",
        "    request = input().split()\n",
        "\n",
        "    if int(request[i][0]) == 1:\n",
        "        my_dict[int(request[i][1])] = int(request[i][2])\n",
        "    else:\n",
        "        if int(request[i][1]) in my_dict.keys():\n",
        "            print(my_dict[int(request[i][1])])\n",
        "        else:\n",
        "            print(-1)"
      ],
      "metadata": {
        "id": "4CEWRPSio3oy"
      },
      "execution_count": null,
      "outputs": []
    },
    {
      "cell_type": "markdown",
      "source": [
        "### [Стек. Задача №1](https://new.contest.yandex.ru/47939/problem?id=215/2023_03_20/jC7rL9y8fd)"
      ],
      "metadata": {
        "id": "Bl4GgP4LpXDv"
      }
    },
    {
      "cell_type": "code",
      "source": [
        "stack = list()\n",
        "\n",
        "for i in range(int(input())):\n",
        "    request = input().split()\n",
        "\n",
        "    if int(request[0]) == 1:\n",
        "        stack.append(int(request[1]))\n",
        "    else:\n",
        "        stack.pop(-1)\n",
        "\n",
        "        if not stack:\n",
        "            print(-1)\n",
        "        else:\n",
        "            print(stack[-1])"
      ],
      "metadata": {
        "id": "u76vkxJcpXU4"
      },
      "execution_count": null,
      "outputs": []
    }
  ]
}