{
  "nbformat": 4,
  "nbformat_minor": 0,
  "metadata": {
    "colab": {
      "provenance": []
    },
    "kernelspec": {
      "name": "python3",
      "display_name": "Python 3"
    },
    "language_info": {
      "name": "python"
    }
  },
  "cells": [
    {
      "cell_type": "markdown",
      "source": [
        "### **1. Напишите декоратор, добавляющий метод `info` в класс `Train` через наследование.**"
      ],
      "metadata": {
        "id": "joXaN9FN30qD"
      }
    },
    {
      "cell_type": "code",
      "execution_count": null,
      "metadata": {
        "id": "85kWK_fs3zlw"
      },
      "outputs": [],
      "source": [
        "def decorator_with_inheritance(_based_class):\n",
        "    class UpdatedTrain(_based_class):\n",
        "        def __init__(self,\n",
        "                     x0: float,\n",
        "                     y0: float,\n",
        "                     alpha0: float,\n",
        "                     v_max: float\n",
        "                     ):\n",
        "            super().__init__(x0, y0, alpha0)\n",
        "            self.v_max = v_max\n",
        "\n",
        "        def my_info(self):\n",
        "            print('info')\n",
        "\n",
        "    return UpdatedTrain\n",
        "\n",
        "\n",
        "@decorator_with_inheritance\n",
        "class Train1:\n",
        "    def __init__(self, x0, y0, alpha0):\n",
        "        self.x0 = x0\n",
        "        self.y0 = y0\n",
        "        self.alpha0 = alpha0"
      ]
    },
    {
      "cell_type": "code",
      "source": [
        "first = Train1(5, 6, 7, 8)\n",
        "first.my_info()"
      ],
      "metadata": {
        "colab": {
          "base_uri": "https://localhost:8080/"
        },
        "id": "9EEX5_PFI5h_",
        "outputId": "45b4cfc0-487e-4b70-a871-625bd107b5d3"
      },
      "execution_count": 19,
      "outputs": [
        {
          "output_type": "stream",
          "name": "stdout",
          "text": [
            "info\n"
          ]
        }
      ]
    },
    {
      "cell_type": "markdown",
      "source": [
        "### **2. Напишите декоратор, добавляющий метод `info` в класс `Train` без наследования.**"
      ],
      "metadata": {
        "id": "8jaOrN0G4kcy"
      }
    },
    {
      "cell_type": "code",
      "source": [
        "def decorator_without_inheritance(_based_class):\n",
        "    def my_info(self):\n",
        "        print('info')\n",
        "\n",
        "    _based_class.my_info = my_info\n",
        "    return _based_class\n",
        "\n",
        "\n",
        "@decorator_without_inheritance\n",
        "class Train2:\n",
        "    def __init__(self, x0, y0, alpha0):\n",
        "        self.x0 = x0\n",
        "        self.y0 = y0\n",
        "        self.alpha0 = alpha0"
      ],
      "metadata": {
        "id": "dUBdDWaE4wID"
      },
      "execution_count": 20,
      "outputs": []
    },
    {
      "cell_type": "code",
      "source": [
        "second = Train2(5, 6, 7)\n",
        "second.my_info()"
      ],
      "metadata": {
        "colab": {
          "base_uri": "https://localhost:8080/"
        },
        "id": "fvtzbHz8I6nv",
        "outputId": "fa21c63c-6738-4f62-b3e9-894e72730be8"
      },
      "execution_count": 21,
      "outputs": [
        {
          "output_type": "stream",
          "name": "stdout",
          "text": [
            "info\n"
          ]
        }
      ]
    }
  ]
}