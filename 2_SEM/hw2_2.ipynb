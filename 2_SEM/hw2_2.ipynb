{
  "nbformat": 4,
  "nbformat_minor": 0,
  "metadata": {
    "colab": {
      "provenance": []
    },
    "kernelspec": {
      "name": "python3",
      "display_name": "Python 3"
    },
    "language_info": {
      "name": "python"
    }
  },
  "cells": [
    {
      "cell_type": "markdown",
      "source": [
        "### **1. Напишите декоратор проверяющий, являются ли все аргументы функции числовыми. Если нет - возбуждается исключение.**"
      ],
      "metadata": {
        "id": "m09IkGR4JkPC"
      }
    },
    {
      "cell_type": "code",
      "source": [
        "def decorator(func):\n",
        "    def checking_for_numbers(*a):\n",
        "        for x in a:\n",
        "            try:\n",
        "                float(x)\n",
        "            except:\n",
        "                return Exception.__name__\n",
        "\n",
        "        func(*a)\n",
        "\n",
        "    return checking_for_numbers\n",
        "\n",
        "\n",
        "@decorator\n",
        "def do_something_with_items(*args):\n",
        "    # something's going on\n",
        "    pass\n",
        "\n",
        "\n",
        "print(do_something_with_items(1, 2, 3, 'd', 5))\n",
        "print(do_something_with_items(1, 2, 3, 4, 5))"
      ],
      "metadata": {
        "colab": {
          "base_uri": "https://localhost:8080/"
        },
        "id": "f1VC_OKmJjCg",
        "outputId": "2c9f7453-558a-4c17-fef0-68236ebf68fe"
      },
      "execution_count": null,
      "outputs": [
        {
          "output_type": "stream",
          "name": "stdout",
          "text": [
            "Exception\n",
            "None\n"
          ]
        }
      ]
    },
    {
      "cell_type": "markdown",
      "source": [
        "### **2. Напишите декоратор реализующий шаблон Singleton для классов (Одиночка, Синглтон)**"
      ],
      "metadata": {
        "id": "o0l9xHeFP0dL"
      }
    },
    {
      "cell_type": "code",
      "source": [
        "def singleton_decorator(func):\n",
        "    def getting_an_instance(arg):\n",
        "        if Singleton.isinstance is None:\n",
        "            Singleton.isinstance = super(Singleton, arg).__new__(arg)\n",
        "\n",
        "        return Singleton.isinstance\n",
        "    return getting_an_instance\n",
        "\n",
        "\n",
        "class Singleton:\n",
        "    isinstance = None\n",
        "\n",
        "    @singleton_decorator\n",
        "    def __new__(cls):\n",
        "        return cls.isinstance\n",
        "\n",
        "\n",
        "first = Singleton()\n",
        "second = Singleton()\n",
        "\n",
        "print(first)\n",
        "print(second)"
      ],
      "metadata": {
        "id": "NT658XHIP0jb",
        "colab": {
          "base_uri": "https://localhost:8080/"
        },
        "outputId": "9ab334c9-dd09-4abc-ced8-39b5437a6258"
      },
      "execution_count": 1,
      "outputs": [
        {
          "output_type": "stream",
          "name": "stdout",
          "text": [
            "<__main__.Singleton object at 0x7f5c463bbd30>\n",
            "<__main__.Singleton object at 0x7f5c463bbd30>\n"
          ]
        }
      ]
    },
    {
      "cell_type": "markdown",
      "source": [
        "### **3. Напишите декоратор, обеспечивающий мемоизацию (проверьте его на функции Аккермана или на вычислении n-го числа Фибоначчи)**"
      ],
      "metadata": {
        "id": "5w-VeowsJ75d"
      }
    },
    {
      "cell_type": "code",
      "source": [
        "def decorator(func):\n",
        "    saved = dict()\n",
        "\n",
        "    def mem(n):\n",
        "        if n in saved:\n",
        "            return saved[n]\n",
        "\n",
        "        saved[n] = func(n)\n",
        "        return saved[n]\n",
        "    return mem\n",
        "\n",
        "\n",
        "@decorator\n",
        "def fibonacci(index):\n",
        "    if index < 3:\n",
        "        return 1\n",
        "\n",
        "    return fibonacci(index - 1) + fibonacci(index - 2)\n",
        "\n",
        "\n",
        "print(fibonacci(200))"
      ],
      "metadata": {
        "colab": {
          "base_uri": "https://localhost:8080/"
        },
        "id": "ImUkrSRCJ67u",
        "outputId": "00c23294-a97a-4cc9-94f4-ca2e33d74257"
      },
      "execution_count": null,
      "outputs": [
        {
          "output_type": "stream",
          "name": "stdout",
          "text": [
            "280571172992510140037611932413038677189525\n"
          ]
        }
      ]
    },
    {
      "cell_type": "markdown",
      "source": [
        "### **4. Напишите декоратор определяющий среднее выполнение времени функции по результатам 1000 запусков.**"
      ],
      "metadata": {
        "id": "OApM64a4K-02"
      }
    },
    {
      "cell_type": "code",
      "source": [
        "import time\n",
        "\n",
        "def memoize_decorator(func):\n",
        "    saved = dict()\n",
        "\n",
        "    def mem(n):\n",
        "        if n in saved:\n",
        "            return saved[n]\n",
        "\n",
        "        saved[n] = func(n)\n",
        "\n",
        "        return saved[n]\n",
        "\n",
        "    return mem\n",
        "\n",
        "\n",
        "def clock_decorator(func):\n",
        "    def clock(n):\n",
        "        avg = 0\n",
        "\n",
        "        for i in range(1000):\n",
        "            start = time.time()\n",
        "            func(n)\n",
        "            avg += time.time() - start\n",
        "\n",
        "        return avg / 1000\n",
        "\n",
        "    return clock\n",
        "\n",
        "\n",
        "@memoize_decorator\n",
        "@clock_decorator\n",
        "def fibonacci(index):\n",
        "    if index < 3:\n",
        "        return 1\n",
        "\n",
        "    return fibonacci(index - 1) + fibonacci(index - 2)\n",
        "\n",
        "\n",
        "print(fibonacci(200))"
      ],
      "metadata": {
        "colab": {
          "base_uri": "https://localhost:8080/"
        },
        "id": "qf2B2mNEK_L3",
        "outputId": "7d36b788-7e46-437e-f0a6-4b4d8a33c524"
      },
      "execution_count": null,
      "outputs": [
        {
          "output_type": "stream",
          "name": "stdout",
          "text": [
            "0.00016522645950317383\n"
          ]
        }
      ]
    },
    {
      "cell_type": "markdown",
      "source": [
        "### **5. Напишите декоратор который выводит тип и значение для каждого взодного и выходного аргумента.**"
      ],
      "metadata": {
        "id": "eTFPGDX_Pq5s"
      }
    },
    {
      "cell_type": "code",
      "source": [
        "def type_of_argument_decorator(func):\n",
        "    def wrapper(*args, **kwargs):\n",
        "        items = args + tuple(kwargs.values())\n",
        "        for item in items:\n",
        "            print(f'type of the \"{item}\" is {type(item)}')\n",
        "\n",
        "    return wrapper"
      ],
      "metadata": {
        "id": "1_vxOjbbPrBC"
      },
      "execution_count": null,
      "outputs": []
    }
  ]
}